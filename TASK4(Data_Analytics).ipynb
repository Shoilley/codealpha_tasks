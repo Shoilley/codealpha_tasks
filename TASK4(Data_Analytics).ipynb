{
  "nbformat": 4,
  "nbformat_minor": 0,
  "metadata": {
    "colab": {
      "provenance": []
    },
    "kernelspec": {
      "name": "python3",
      "display_name": "Python 3"
    },
    "language_info": {
      "name": "python"
    }
  },
  "cells": [
    {
      "cell_type": "code",
      "execution_count": 6,
      "metadata": {
        "colab": {
          "base_uri": "https://localhost:8080/"
        },
        "id": "n_WYIIq4TwV5",
        "outputId": "611f4283-3250-435e-f64b-1ff6c581b703"
      },
      "outputs": [
        {
          "output_type": "stream",
          "name": "stdout",
          "text": [
            "Requirement already satisfied: nltk in /usr/local/lib/python3.11/dist-packages (3.9.1)\n",
            "Requirement already satisfied: click in /usr/local/lib/python3.11/dist-packages (from nltk) (8.2.1)\n",
            "Requirement already satisfied: joblib in /usr/local/lib/python3.11/dist-packages (from nltk) (1.5.0)\n",
            "Requirement already satisfied: regex>=2021.8.3 in /usr/local/lib/python3.11/dist-packages (from nltk) (2024.11.6)\n",
            "Requirement already satisfied: tqdm in /usr/local/lib/python3.11/dist-packages (from nltk) (4.67.1)\n",
            "Text: I love this product! It's amazing.\n",
            "Sentiment: Positive, Scores: {'neg': 0.0, 'neu': 0.266, 'pos': 0.734, 'compound': 0.8516}\n",
            "\n",
            "Text: This is the worst thing I’ve ever bought.\n",
            "Sentiment: Negative, Scores: {'neg': 0.369, 'neu': 0.631, 'pos': 0.0, 'compound': -0.6249}\n",
            "\n",
            "Text: It’s okay, not great, not bad.\n",
            "Sentiment: Negative, Scores: {'neg': 0.536, 'neu': 0.284, 'pos': 0.18, 'compound': -0.5808}\n",
            "\n",
            "Text: Absolutely fantastic service!\n",
            "Sentiment: Positive, Scores: {'neg': 0.0, 'neu': 0.323, 'pos': 0.677, 'compound': 0.6352}\n",
            "\n",
            "Text: I’m so disappointed and frustrated.\n",
            "Sentiment: Negative, Scores: {'neg': 0.702, 'neu': 0.298, 'pos': 0.0, 'compound': -0.7939}\n",
            "\n",
            "Text: Hello I am zarin. I am fresh graduate.\n",
            "Sentiment: Positive, Scores: {'neg': 0.0, 'neu': 0.685, 'pos': 0.315, 'compound': 0.3182}\n",
            "\n",
            "Text: This is a house.\n",
            "Sentiment: Neutral, Scores: {'neg': 0.0, 'neu': 1.0, 'pos': 0.0, 'compound': 0.0}\n",
            "\n"
          ]
        },
        {
          "output_type": "stream",
          "name": "stderr",
          "text": [
            "[nltk_data] Downloading package vader_lexicon to /root/nltk_data...\n",
            "[nltk_data]   Package vader_lexicon is already up-to-date!\n"
          ]
        }
      ],
      "source": [
        "# Install necessary libraries\n",
        "!pip install nltk\n",
        "\n",
        "# Import libraries\n",
        "import nltk\n",
        "nltk.download('vader_lexicon')\n",
        "from nltk.sentiment.vader import SentimentIntensityAnalyzer\n",
        "\n",
        "# Initialize sentiment analyzer\n",
        "sid = SentimentIntensityAnalyzer()\n",
        "\n",
        "# Sample texts (can be replaced with actual data from Twitter, Reddit, etc.)\n",
        "texts = [\n",
        "    \"I love this product! It's amazing.\",\n",
        "    \"This is the worst thing I’ve ever bought.\",\n",
        "    \"It’s okay, not great, not bad.\",\n",
        "    \"Absolutely fantastic service!\",\n",
        "    \"I’m so disappointed and frustrated.\",\n",
        "    \"Hello I am zarin. I am fresh graduate.\",\n",
        "    \"This is a house.\"\n",
        "]\n",
        "\n",
        "# Analyze each text\n",
        "for text in texts:\n",
        "    scores = sid.polarity_scores(text)\n",
        "    sentiment = \"Positive\" if scores['compound'] > 0.05 else \"Negative\" if scores['compound'] < -0.05 else \"Neutral\"\n",
        "    print(f\"Text: {text}\\nSentiment: {sentiment}, Scores: {scores}\\n\")\n"
      ]
    },
    {
      "cell_type": "code",
      "source": [],
      "metadata": {
        "id": "fX1mp1b3UF21"
      },
      "execution_count": null,
      "outputs": []
    }
  ]
}